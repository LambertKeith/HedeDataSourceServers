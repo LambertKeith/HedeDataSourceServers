{
 "cells": [
  {
   "cell_type": "code",
   "execution_count": 2,
   "metadata": {},
   "outputs": [
    {
     "name": "stderr",
     "output_type": "stream",
     "text": [
      "[INFO]-[2024-06-25 09:12:11]-[mylog_server.py]-[79]-[example_function - 入参: {'a': 5, 'b': 10}]\n",
      "[INFO]-[2024-06-25 09:12:11]-[mylog_server.py]-[79]-[example_function - 入参: {'a': 5, 'b': 10}]\n",
      "[INFO]-[2024-06-25 09:12:11]-[mylog_server.py]-[79]-[example_function - 入参: {'a': 5, 'b': 10}]\n",
      "[INFO]-[2024-06-25 09:12:11]-[3283174163.py]-[8]-[Executing example function]\n",
      "[INFO]-[2024-06-25 09:12:11]-[3283174163.py]-[8]-[Executing example function]\n",
      "[INFO]-[2024-06-25 09:12:11]-[3283174163.py]-[8]-[Executing example function]\n",
      "[ERROR]-[2024-06-25 09:12:11]-[3283174163.py]-[9]-[fail!]\n",
      "[ERROR]-[2024-06-25 09:12:11]-[3283174163.py]-[9]-[fail!]\n",
      "[ERROR]-[2024-06-25 09:12:11]-[3283174163.py]-[9]-[fail!]\n",
      "[INFO]-[2024-06-25 09:12:11]-[mylog_server.py]-[81]-[example_function - 出参: 15]\n",
      "[INFO]-[2024-06-25 09:12:11]-[mylog_server.py]-[81]-[example_function - 出参: 15]\n",
      "[INFO]-[2024-06-25 09:12:11]-[mylog_server.py]-[81]-[example_function - 出参: 15]\n"
     ]
    },
    {
     "data": {
      "text/plain": [
       "15"
      ]
     },
     "execution_count": 2,
     "metadata": {},
     "output_type": "execute_result"
    }
   ],
   "source": [
    "from servers.mylog_server import CustomLogger\n",
    "\n",
    "\n",
    "logger = CustomLogger(log_file='app.log')\n",
    "\n",
    "@logger.log_params_and_return\n",
    "def example_function(a, b):\n",
    "    logger.info(\"Executing example function\")\n",
    "    logger.error(\"fail!\")\n",
    "    return a + b\n",
    "\n",
    "example_function(5, 10)"
   ]
  }
 ],
 "metadata": {
  "kernelspec": {
   "display_name": ".venv",
   "language": "python",
   "name": "python3"
  },
  "language_info": {
   "codemirror_mode": {
    "name": "ipython",
    "version": 3
   },
   "file_extension": ".py",
   "mimetype": "text/x-python",
   "name": "python",
   "nbconvert_exporter": "python",
   "pygments_lexer": "ipython3",
   "version": "3.10.6"
  }
 },
 "nbformat": 4,
 "nbformat_minor": 2
}

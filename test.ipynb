{
 "cells": [
  {
   "cell_type": "code",
   "execution_count": 1,
   "metadata": {},
   "outputs": [
    {
     "name": "stderr",
     "output_type": "stream",
     "text": [
      "[INFO]-[2024-06-24 19:55:26]-[3324171610.py]-[11]-[example_function] Function call with params: {'a': 5, 'b': 10}\n",
      "[20]-[2024-06-24 19:55:26]-[3324171610.py]-[8]-[Executing example function]\n",
      "[INFO]-[2024-06-24 19:55:26]-[3324171610.py]-[11]-[example_function] Function returned: 15\n"
     ]
    },
    {
     "data": {
      "text/plain": [
       "15"
      ]
     },
     "execution_count": 1,
     "metadata": {},
     "output_type": "execute_result"
    }
   ],
   "source": [
    "from servers.mylog_server import CustomLogger\n",
    "\n",
    "\n",
    "logger = CustomLogger(log_file='app.log')\n",
    "\n",
    "@logger.log_params_and_return\n",
    "def example_function(a, b):\n",
    "    logger.info(\"Executing example function\")\n",
    "    return a + b\n",
    "\n",
    "example_function(5, 10)"
   ]
  }
 ],
 "metadata": {
  "kernelspec": {
   "display_name": ".venv",
   "language": "python",
   "name": "python3"
  },
  "language_info": {
   "codemirror_mode": {
    "name": "ipython",
    "version": 3
   },
   "file_extension": ".py",
   "mimetype": "text/x-python",
   "name": "python",
   "nbconvert_exporter": "python",
   "pygments_lexer": "ipython3",
   "version": "3.10.6"
  }
 },
 "nbformat": 4,
 "nbformat_minor": 2
}
